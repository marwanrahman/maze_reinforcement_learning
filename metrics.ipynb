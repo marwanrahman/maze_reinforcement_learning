{
 "cells": [
  {
   "cell_type": "code",
   "execution_count": 2,
   "metadata": {},
   "outputs": [],
   "source": [
    "# Imports\n",
    "from matplotlib.collections import LineCollection\n",
    "from matplotlib import cm\n",
    "import math\n",
    "\n",
    "import pickle\n",
    "import numpy as np\n",
    "from matplotlib import pyplot as plt\n",
    "from matplotlib import patches\n",
    "from copy import deepcopy\n",
    "#import plotly.graph_objects as go\n",
    "from scipy.optimize import curve_fit\n",
    "from dataclasses import make_dataclass\n",
    "\n",
    "import sys\n",
    "module_path = 'maze_utils' \n",
    "if module_path not in sys.path:\n",
    "    sys.path.append(module_path)\n",
    "\n",
    "from MM_Plot_Utils import plot, hist\n",
    "from MM_Maze_Utils import *\n",
    "from MM_Traj_Utils import *\n",
    "\n",
    "%matplotlib inline\n",
    "%reload_ext autoreload\n",
    "%autoreload 2"
   ]
  },
  {
   "cell_type": "code",
   "execution_count": 7,
   "metadata": {},
   "outputs": [],
   "source": [
    "# Define and populate the maze structure ma, used as an argument for many functions\n",
    "ma=NewMaze(6)\n",
    "\n",
    "# non-valid maze parts\n",
    "re=[[-0.5,0.5,1,1],[-0.5,4.5,1,1],[-0.5,8.5,1,1],[-0.5,12.5,1,1],\n",
    "       [2.5,13.5,1,1],[6.5,13.5,1,1],[10.5,13.5,1,1],\n",
    "       [13.5,12.5,1,1],[13.5,8.5,1,1],[13.5,4.5,1,1],[13.5,0.5,1,1],\n",
    "       [10.5,-0.5,1,1],[6.5,-0.5,1,1],[2.5,-0.5,1,1],\n",
    "       [6.5,1.5,1,1],[6.5,11.5,1,1],[10.5,5.5,1,1],[10.5,7.5,1,1],\n",
    "       [5.5,4.5,1,1],[5.5,8.5,1,1],[7.5,4.5,1,1],[7.5,8.5,1,1],[2.5,5.5,1,1],[2.5,7.5,1,1],\n",
    "       [-0.5,2.5,3,1],[-0.5,10.5,3,1],[11.5,10.5,3,1],[11.5,2.5,3,1],[5.5,0.5,3,1],[5.5,12.5,3,1],\n",
    "       [7.5,6.5,7,1]]"
   ]
  },
  {
   "cell_type": "code",
   "execution_count": 8,
   "metadata": {},
   "outputs": [],
   "source": [
    "# get a path of a bout (list of coordinates)\n",
    "def get_path_552(nickname,b):\n",
    "    tf=LoadTraj(nickname+'-tf')\n",
    "    x=-0.5+15*tf.ke[b][:,0]\n",
    "    y=-0.5+15*tf.ke[b][:,1]\n",
    "    t=np.linspace(0,1,x.shape[0]) # time variable\n",
    "    points = np.array([list(x),list(y)]).transpose().tolist()\n",
    "    points = list(filter(lambda x: (not math.isnan(x[0])) or (not math.isnan(x[1])), points))\n",
    "    points=np.round(points)\n",
    "    points = np.array(points,dtype=int)\n",
    "    points = [x for x in points if tuple(x) in ma.ce.keys()]\n",
    "\n",
    "    points = [i for (i,j) in zip(points[1:], points) if len(ConnectPath(ma.ce[tuple(j)], ma.ce[tuple(i)], ma))<6]\n",
    "\n",
    "    points_copy = points.copy()\n",
    "    offset = 0\n",
    "    for i, (x,y) in enumerate(zip(points[1:], points)):\n",
    "        path = ConnectPath(ma.ce[tuple(y)], ma.ce[tuple(x)], ma)\n",
    "        if len(path)>2:\n",
    "            coords = []\n",
    "            for idx in path[1:-1]:\n",
    "                coords.append((ma.xc[idx], ma.yc[idx]))\n",
    "            points_copy[i+1+offset:i+1+offset] = coords\n",
    "            offset += len(coords)\n",
    "\n",
    "    return points_copy, t"
   ]
  },
  {
   "cell_type": "code",
   "execution_count": 9,
   "metadata": {},
   "outputs": [],
   "source": [
    "# plot a path (list of coordinates)\n",
    "def plot_path_552(points, t, ax):\n",
    "    points = np.array(points).reshape(-1,1,2)\n",
    "\n",
    "    segs=np.concatenate([points[:-1],points[1:]],axis=1) # array of segments\n",
    "    lc=LineCollection(segs,cmap=plt.get_cmap('viridis'),linewidths=1.5) # collect segments\n",
    "    lc.set_array(t) # color the segments by the time variable\n",
    "    plot(ma.wa[:,0],ma.wa[:,1],fmts=['k-'],equal=True,linewidth=1,yflip=True,\n",
    "              xhide=True,yhide=True,axes=ax) # Draw the maze outline    \n",
    "    for r in re:\n",
    "        rect=patches.Rectangle((r[0],r[1]),r[2],r[3],linewidth=1,edgecolor='lightgray',facecolor='lightgray')\n",
    "        ax.add_patch(rect)\n",
    "    ax.axis('off'); # turn off the axes\n",
    "    ax.add_collection(lc); # add the collection to the plot"
   ]
  },
  {
   "cell_type": "code",
   "execution_count": null,
   "metadata": {},
   "outputs": [],
   "source": [
    "# Order:\n",
    "#  B1 B2 B3 B4 C1 \n",
    "#  C3 C6 C7 C8 C9 \n",
    "#  B5 B6 B7 D3 D4 \n",
    "#  D5 D7 D8 D9"
   ]
  },
  {
   "cell_type": "code",
   "execution_count": 68,
   "metadata": {},
   "outputs": [
    {
     "name": "stdout",
     "output_type": "stream",
     "text": [
      "B1\n",
      "B2\n",
      "B3\n",
      "B4\n",
      "C1\n",
      "C3\n",
      "C6\n",
      "C7\n",
      "C8\n",
      "C9\n",
      "B5\n",
      "B6\n",
      "B7\n",
      "D3\n",
      "D4\n",
      "D5\n",
      "D7\n",
      "D8\n",
      "D9\n",
      "[13, 1, 5, 2, 2, 1, 1, 0, 1, 1, 1, 2, 2, 1, 4, 1, 1, 1, 2]\n"
     ]
    }
   ],
   "source": [
    "# get first proper bouts (beyond the first junction) of all 19 animals\n",
    "with open('outdata/HomeRuns', 'rb') as f:\n",
    "    Names,HR=pickle.load(f) # bout, starting node, node distance, absolute frame   \n",
    "sb=[hr[hr[:,2]>1,0][0] for hr in HR] # bout of first home run if past first intersection\n",
    "paths, time = [], []\n",
    "for i,nickname in enumerate(Names):\n",
    "    print(nickname)\n",
    "    path, time_var = get_path_552(nickname,sb[i])\n",
    "    paths.append(path)\n",
    "    time.append(time_var)\n",
    "print(sb)"
   ]
  },
  {
   "cell_type": "code",
   "execution_count": 11,
   "metadata": {},
   "outputs": [
    {
     "data": {
      "image/png": "[encoded data removed]",
      "text/plain": [
       "<Figure size 864x720 with 20 Axes>"
      ]
     },
     "metadata": {
      "needs_background": "light"
     },
     "output_type": "display_data"
    }
   ],
   "source": [
    "# plot first proper bouts (beyond the first junction) of all 19 animals\n",
    "fig,ax=plt.subplots(4,5,figsize=(12,10))\n",
    "for i in range(len(paths)):\n",
    "    plot_path_552(paths[i], time[i], ax[i//5,i%5])\n",
    "\n",
    "lastax=ax[-1,-1] # deal with the last panel\n",
    "plot([0],[0],fmts=['w.'],equal=True,yflip=True,\n",
    "          xhide=True,yhide=True,axes=lastax) # Draw nothing, helps for some reason \n",
    "lastax.axis('off')\n",
    "plt.show()"
   ]
  },
  {
   "attachments": {},
   "cell_type": "markdown",
   "metadata": {},
   "source": [
    "### @Naomi, below is an example for one mouse, but this is how to remove consecutive duplicate coordinates\n",
    "\n",
    "i.e., if path is [(0,7), (0,7), (0,7), (0,7), (0,7), (1,7), (1,7) (1,7) (1,7), (2,7), (2,7), (2,7), (1,7), (0,7)],\n",
    "        then the code below will outupt [(0,7), (1,7), (2,7), (1,7), (0,7)],\n",
    "        which is what we should use for the metrics"
   ]
  },
  {
   "cell_type": "code",
   "execution_count": 72,
   "metadata": {},
   "outputs": [
    {
     "ename": "AttributeError",
     "evalue": "'bool' object has no attribute 'any'",
     "output_type": "error",
     "traceback": [
      "\u001b[1;31m---------------------------------------------------------------------------\u001b[0m",
      "\u001b[1;31mAttributeError\u001b[0m                            Traceback (most recent call last)",
      "\u001b[1;32m<ipython-input-72-d204ba011ccf>\u001b[0m in \u001b[0;36m<module>\u001b[1;34m\u001b[0m\n\u001b[0;32m      1\u001b[0m \u001b[0mpath\u001b[0m\u001b[1;33m,\u001b[0m \u001b[0mtime_var\u001b[0m \u001b[1;33m=\u001b[0m \u001b[0mget_path_552\u001b[0m\u001b[1;33m(\u001b[0m\u001b[1;34m'B2'\u001b[0m\u001b[1;33m,\u001b[0m\u001b[0msb\u001b[0m\u001b[1;33m[\u001b[0m\u001b[1;36m1\u001b[0m\u001b[1;33m]\u001b[0m\u001b[1;33m)\u001b[0m\u001b[1;33m\u001b[0m\u001b[1;33m\u001b[0m\u001b[0m\n\u001b[1;32m----> 2\u001b[1;33m \u001b[0mpath_2\u001b[0m \u001b[1;33m=\u001b[0m \u001b[1;33m[\u001b[0m\u001b[0mv\u001b[0m \u001b[1;32mfor\u001b[0m \u001b[0mi\u001b[0m\u001b[1;33m,\u001b[0m \u001b[0mv\u001b[0m \u001b[1;32min\u001b[0m \u001b[0menumerate\u001b[0m\u001b[1;33m(\u001b[0m\u001b[0mpath\u001b[0m\u001b[1;33m)\u001b[0m \u001b[1;32mif\u001b[0m \u001b[0mi\u001b[0m \u001b[1;33m==\u001b[0m \u001b[1;36m0\u001b[0m \u001b[1;32mor\u001b[0m \u001b[1;33m(\u001b[0m\u001b[0mpath\u001b[0m\u001b[1;33m[\u001b[0m\u001b[0mi\u001b[0m\u001b[1;33m]\u001b[0m \u001b[1;33m!=\u001b[0m \u001b[0mpath\u001b[0m\u001b[1;33m[\u001b[0m\u001b[0mi\u001b[0m\u001b[1;33m-\u001b[0m\u001b[1;36m1\u001b[0m\u001b[1;33m]\u001b[0m\u001b[1;33m)\u001b[0m\u001b[1;33m.\u001b[0m\u001b[0many\u001b[0m\u001b[1;33m(\u001b[0m\u001b[1;33m)\u001b[0m\u001b[1;33m]\u001b[0m\u001b[1;33m\u001b[0m\u001b[1;33m\u001b[0m\u001b[0m\n\u001b[0m\u001b[0;32m      3\u001b[0m \u001b[0mprint\u001b[0m\u001b[1;33m(\u001b[0m\u001b[0mpath_2\u001b[0m\u001b[1;33m)\u001b[0m\u001b[1;33m\u001b[0m\u001b[1;33m\u001b[0m\u001b[0m\n",
      "\u001b[1;32m<ipython-input-72-d204ba011ccf>\u001b[0m in \u001b[0;36m<listcomp>\u001b[1;34m(.0)\u001b[0m\n\u001b[0;32m      1\u001b[0m \u001b[0mpath\u001b[0m\u001b[1;33m,\u001b[0m \u001b[0mtime_var\u001b[0m \u001b[1;33m=\u001b[0m \u001b[0mget_path_552\u001b[0m\u001b[1;33m(\u001b[0m\u001b[1;34m'B2'\u001b[0m\u001b[1;33m,\u001b[0m\u001b[0msb\u001b[0m\u001b[1;33m[\u001b[0m\u001b[1;36m1\u001b[0m\u001b[1;33m]\u001b[0m\u001b[1;33m)\u001b[0m\u001b[1;33m\u001b[0m\u001b[1;33m\u001b[0m\u001b[0m\n\u001b[1;32m----> 2\u001b[1;33m \u001b[0mpath_2\u001b[0m \u001b[1;33m=\u001b[0m \u001b[1;33m[\u001b[0m\u001b[0mv\u001b[0m \u001b[1;32mfor\u001b[0m \u001b[0mi\u001b[0m\u001b[1;33m,\u001b[0m \u001b[0mv\u001b[0m \u001b[1;32min\u001b[0m \u001b[0menumerate\u001b[0m\u001b[1;33m(\u001b[0m\u001b[0mpath\u001b[0m\u001b[1;33m)\u001b[0m \u001b[1;32mif\u001b[0m \u001b[0mi\u001b[0m \u001b[1;33m==\u001b[0m \u001b[1;36m0\u001b[0m \u001b[1;32mor\u001b[0m \u001b[1;33m(\u001b[0m\u001b[0mpath\u001b[0m\u001b[1;33m[\u001b[0m\u001b[0mi\u001b[0m\u001b[1;33m]\u001b[0m \u001b[1;33m!=\u001b[0m \u001b[0mpath\u001b[0m\u001b[1;33m[\u001b[0m\u001b[0mi\u001b[0m\u001b[1;33m-\u001b[0m\u001b[1;36m1\u001b[0m\u001b[1;33m]\u001b[0m\u001b[1;33m)\u001b[0m\u001b[1;33m.\u001b[0m\u001b[0many\u001b[0m\u001b[1;33m(\u001b[0m\u001b[1;33m)\u001b[0m\u001b[1;33m]\u001b[0m\u001b[1;33m\u001b[0m\u001b[1;33m\u001b[0m\u001b[0m\n\u001b[0m\u001b[0;32m      3\u001b[0m \u001b[0mprint\u001b[0m\u001b[1;33m(\u001b[0m\u001b[0mpath_2\u001b[0m\u001b[1;33m)\u001b[0m\u001b[1;33m\u001b[0m\u001b[1;33m\u001b[0m\u001b[0m\n",
      "\u001b[1;31mAttributeError\u001b[0m: 'bool' object has no attribute 'any'"
     ]
    }
   ],
   "source": [
    "path, time_var = get_path_552('B2',sb[1])\n",
    "path_2 = [v for i, v in enumerate(path) if i == 0 or (path[i] != path[i-1]).any()]\n",
    "print(path_2)"
   ]
  },
  {
   "cell_type": "code",
   "execution_count": 66,
   "metadata": {},
   "outputs": [
    {
     "name": "stdout",
     "output_type": "stream",
     "text": [
      "1\n",
      "2\n"
     ]
    },
    {
     "ename": "AttributeError",
     "evalue": "'bool' object has no attribute 'any'",
     "output_type": "error",
     "traceback": [
      "\u001b[1;31m---------------------------------------------------------------------------\u001b[0m",
      "\u001b[1;31mAttributeError\u001b[0m                            Traceback (most recent call last)",
      "\u001b[1;32m<ipython-input-66-7d88e38e1452>\u001b[0m in \u001b[0;36m<module>\u001b[1;34m\u001b[0m\n\u001b[0;32m     10\u001b[0m     \u001b[0mpath\u001b[0m\u001b[1;33m,\u001b[0m \u001b[0mtime_var\u001b[0m \u001b[1;33m=\u001b[0m \u001b[0mget_path_552\u001b[0m\u001b[1;33m(\u001b[0m\u001b[0mmouse\u001b[0m\u001b[1;33m,\u001b[0m\u001b[0msb\u001b[0m\u001b[1;33m[\u001b[0m\u001b[1;36m2\u001b[0m\u001b[1;33m]\u001b[0m\u001b[1;33m)\u001b[0m \u001b[1;31m# not sure if this is right lol idk what sb[0] is\u001b[0m\u001b[1;33m\u001b[0m\u001b[1;33m\u001b[0m\u001b[0m\n\u001b[0;32m     11\u001b[0m     \u001b[0mprint\u001b[0m\u001b[1;33m(\u001b[0m\u001b[1;34m'2'\u001b[0m\u001b[1;33m)\u001b[0m\u001b[1;33m\u001b[0m\u001b[1;33m\u001b[0m\u001b[0m\n\u001b[1;32m---> 12\u001b[1;33m     \u001b[0mpath_2\u001b[0m \u001b[1;33m=\u001b[0m \u001b[1;33m[\u001b[0m\u001b[0mv\u001b[0m \u001b[1;32mfor\u001b[0m \u001b[0mi\u001b[0m\u001b[1;33m,\u001b[0m \u001b[0mv\u001b[0m \u001b[1;32min\u001b[0m \u001b[0menumerate\u001b[0m\u001b[1;33m(\u001b[0m\u001b[0mpath\u001b[0m\u001b[1;33m)\u001b[0m \u001b[1;32mif\u001b[0m \u001b[0mi\u001b[0m \u001b[1;33m==\u001b[0m \u001b[1;36m0\u001b[0m \u001b[1;32mor\u001b[0m \u001b[1;33m(\u001b[0m\u001b[0mpath\u001b[0m\u001b[1;33m[\u001b[0m\u001b[0mi\u001b[0m\u001b[1;33m]\u001b[0m \u001b[1;33m!=\u001b[0m \u001b[0mpath\u001b[0m\u001b[1;33m[\u001b[0m\u001b[0mi\u001b[0m\u001b[1;33m-\u001b[0m\u001b[1;36m1\u001b[0m\u001b[1;33m]\u001b[0m\u001b[1;33m)\u001b[0m\u001b[1;33m.\u001b[0m\u001b[0many\u001b[0m\u001b[1;33m(\u001b[0m\u001b[1;33m)\u001b[0m\u001b[1;33m]\u001b[0m\u001b[1;33m\u001b[0m\u001b[1;33m\u001b[0m\u001b[0m\n\u001b[0m\u001b[0;32m     13\u001b[0m     \u001b[0mprint\u001b[0m\u001b[1;33m(\u001b[0m\u001b[1;34m'3'\u001b[0m\u001b[1;33m)\u001b[0m\u001b[1;33m\u001b[0m\u001b[1;33m\u001b[0m\u001b[0m\n\u001b[0;32m     14\u001b[0m     \u001b[1;31m#convert coordinates to indices\u001b[0m\u001b[1;33m\u001b[0m\u001b[1;33m\u001b[0m\u001b[1;33m\u001b[0m\u001b[0m\n",
      "\u001b[1;32m<ipython-input-66-7d88e38e1452>\u001b[0m in \u001b[0;36m<listcomp>\u001b[1;34m(.0)\u001b[0m\n\u001b[0;32m     10\u001b[0m     \u001b[0mpath\u001b[0m\u001b[1;33m,\u001b[0m \u001b[0mtime_var\u001b[0m \u001b[1;33m=\u001b[0m \u001b[0mget_path_552\u001b[0m\u001b[1;33m(\u001b[0m\u001b[0mmouse\u001b[0m\u001b[1;33m,\u001b[0m\u001b[0msb\u001b[0m\u001b[1;33m[\u001b[0m\u001b[1;36m2\u001b[0m\u001b[1;33m]\u001b[0m\u001b[1;33m)\u001b[0m \u001b[1;31m# not sure if this is right lol idk what sb[0] is\u001b[0m\u001b[1;33m\u001b[0m\u001b[1;33m\u001b[0m\u001b[0m\n\u001b[0;32m     11\u001b[0m     \u001b[0mprint\u001b[0m\u001b[1;33m(\u001b[0m\u001b[1;34m'2'\u001b[0m\u001b[1;33m)\u001b[0m\u001b[1;33m\u001b[0m\u001b[1;33m\u001b[0m\u001b[0m\n\u001b[1;32m---> 12\u001b[1;33m     \u001b[0mpath_2\u001b[0m \u001b[1;33m=\u001b[0m \u001b[1;33m[\u001b[0m\u001b[0mv\u001b[0m \u001b[1;32mfor\u001b[0m \u001b[0mi\u001b[0m\u001b[1;33m,\u001b[0m \u001b[0mv\u001b[0m \u001b[1;32min\u001b[0m \u001b[0menumerate\u001b[0m\u001b[1;33m(\u001b[0m\u001b[0mpath\u001b[0m\u001b[1;33m)\u001b[0m \u001b[1;32mif\u001b[0m \u001b[0mi\u001b[0m \u001b[1;33m==\u001b[0m \u001b[1;36m0\u001b[0m \u001b[1;32mor\u001b[0m \u001b[1;33m(\u001b[0m\u001b[0mpath\u001b[0m\u001b[1;33m[\u001b[0m\u001b[0mi\u001b[0m\u001b[1;33m]\u001b[0m \u001b[1;33m!=\u001b[0m \u001b[0mpath\u001b[0m\u001b[1;33m[\u001b[0m\u001b[0mi\u001b[0m\u001b[1;33m-\u001b[0m\u001b[1;36m1\u001b[0m\u001b[1;33m]\u001b[0m\u001b[1;33m)\u001b[0m\u001b[1;33m.\u001b[0m\u001b[0many\u001b[0m\u001b[1;33m(\u001b[0m\u001b[1;33m)\u001b[0m\u001b[1;33m]\u001b[0m\u001b[1;33m\u001b[0m\u001b[1;33m\u001b[0m\u001b[0m\n\u001b[0m\u001b[0;32m     13\u001b[0m     \u001b[0mprint\u001b[0m\u001b[1;33m(\u001b[0m\u001b[1;34m'3'\u001b[0m\u001b[1;33m)\u001b[0m\u001b[1;33m\u001b[0m\u001b[1;33m\u001b[0m\u001b[0m\n\u001b[0;32m     14\u001b[0m     \u001b[1;31m#convert coordinates to indices\u001b[0m\u001b[1;33m\u001b[0m\u001b[1;33m\u001b[0m\u001b[1;33m\u001b[0m\u001b[0m\n",
      "\u001b[1;31mAttributeError\u001b[0m: 'bool' object has no attribute 'any'"
     ]
    }
   ],
   "source": [
    "#these are just all the ones in outdata\n",
    "mouse_names= ['B1','B2','B3', 'B4', 'B5', 'B6', 'B7', 'C1', 'C3', 'C6','C7', 'C8','C9','D3','D4','D5','D6','D7','D8','D9']\n",
    "\n",
    "#dictionaries for all mice\n",
    "dir_dic={}\n",
    "\n",
    "for mouse in mouse_names:\n",
    "    #path, time_var = get_path_552('B1',sb[0])\n",
    "    print('1')\n",
    "    path, time_var = get_path_552(mouse,sb[2]) # not sure if this is right lol idk what sb[0] is\n",
    "    print('2')\n",
    "    path_2 = [v for i, v in enumerate(path) if i == 0 or (path[i] != path[i-1]).any()]\n",
    "    print('3')\n",
    "    #convert coordinates to indices\n",
    "    index_list = [ma.ce[tuple(path)] for path in path_2] \n",
    "\n",
    "    # convert indicies to nodes\n",
    "    # maze.ru is a list of lists, where the inner lists are the indices of the coordinates that are associated to each node\n",
    "    node_list= []\n",
    "    for index in index_list:\n",
    "        for i, node_idx_list in enumerate (ma.ru):\n",
    "            if index in node_idx_list:\n",
    "                node_list.append(i)\n",
    "\n",
    "    #convert nodes to steps\n",
    "    step_list= []\n",
    "    for start, end in zip(node_list, node_list[1:]):\n",
    "        step_type= ma.st[start,end]\n",
    "        step_list.append(step_type)\n",
    "\n",
    "    # convert steps to directions (left/right/back/straight)\n",
    "    dir_list=[]\n",
    "    for start, end in zip(step_list, step_list[1:]):\n",
    "        # in left = 0; in right = 1; out left = 2; out right = 3; illegal = -1\n",
    "        # out right, out right: left turn\n",
    "        if start==3 & end == 3:\n",
    "            dir_list.append('left')\n",
    "        # out left, out left: right turn\n",
    "        if start==2 & end == 2:\n",
    "            dir_list.append('right')\n",
    "        # out right, out left: left turn\n",
    "        if start==3 & end == 2:\n",
    "            dir_list.append('left')\n",
    "        # out left, out right: right \n",
    "        if start==2 & end == 3:\n",
    "            dir_list.append('right')\n",
    "\n",
    "        # in right, out right: backwards\n",
    "        if start==1 & end == 3:\n",
    "            dir_list.append('back')\n",
    "        # in left, out left: backwards\n",
    "        if start==0 & end == 2:\n",
    "            dir_list.append('back')\n",
    "        # out right, in right: backwards\n",
    "        if start==3 & end == 1:\n",
    "            dir_list.append('back')\n",
    "        # out left, in left: backwards\n",
    "        if start==2 & end == 0:\n",
    "            dir_list.append('back')\n",
    "\n",
    "        # in right, in right: right\n",
    "        if start==1 & end == 1:\n",
    "            dir_list.append('right')\n",
    "        # in left, in left: left\n",
    "        if start==0 & end == 0:\n",
    "            dir_list.append('left')\n",
    "        # in right, in left: left\n",
    "        if start==1 & end == 0:\n",
    "            dir_list.append('left')\n",
    "        # in left, in right: right\n",
    "        if start==0 & end == 1:\n",
    "            dir_list.append('right')\n",
    "\n",
    "        # in right, out left: not possible\n",
    "        if start==1 & end == 2:\n",
    "            dir_list.append('illegal')\n",
    "        # out left, in right: straight\n",
    "        if start==2 & end == 1:\n",
    "            dir_list.append('straight')\n",
    "        # in left, out right: not possible\n",
    "        if start==0 & end == 3:\n",
    "            dir_list.append('illegal')\n",
    "        # out right, in left: straight\n",
    "        if start==3 & end == 0:\n",
    "            dir_list.append('straight')\n",
    "    dir_dic[mouse]= dir_list"
   ]
  },
  {
   "cell_type": "code",
   "execution_count": 53,
   "metadata": {},
   "outputs": [
    {
     "data": {
      "text/plain": [
       "{'B1': ['left',\n",
       "  'left',\n",
       "  'left',\n",
       "  'left',\n",
       "  'left',\n",
       "  'left',\n",
       "  'right',\n",
       "  'left',\n",
       "  'left',\n",
       "  'left',\n",
       "  'right',\n",
       "  'right',\n",
       "  'left',\n",
       "  'left',\n",
       "  'right',\n",
       "  'right',\n",
       "  'right',\n",
       "  'right',\n",
       "  'right',\n",
       "  'left',\n",
       "  'right',\n",
       "  'right',\n",
       "  'left',\n",
       "  'left',\n",
       "  'left',\n",
       "  'left',\n",
       "  'right',\n",
       "  'right',\n",
       "  'right',\n",
       "  'right',\n",
       "  'left',\n",
       "  'left',\n",
       "  'right',\n",
       "  'back',\n",
       "  'left',\n",
       "  'right',\n",
       "  'left',\n",
       "  'left',\n",
       "  'right',\n",
       "  'left',\n",
       "  'left',\n",
       "  'left',\n",
       "  'right',\n",
       "  'left',\n",
       "  'back',\n",
       "  'left',\n",
       "  'right',\n",
       "  'left',\n",
       "  'left',\n",
       "  'left',\n",
       "  'left',\n",
       "  'right',\n",
       "  'left',\n",
       "  'back',\n",
       "  'left',\n",
       "  'left',\n",
       "  'straight',\n",
       "  'left',\n",
       "  'left',\n",
       "  'left',\n",
       "  'left',\n",
       "  'right',\n",
       "  'left',\n",
       "  'right',\n",
       "  'left',\n",
       "  'left',\n",
       "  'left',\n",
       "  'right',\n",
       "  'right',\n",
       "  'left',\n",
       "  'left',\n",
       "  'right',\n",
       "  'left',\n",
       "  'left',\n",
       "  'right']}"
      ]
     },
     "execution_count": 53,
     "metadata": {},
     "output_type": "execute_result"
    }
   ],
   "source": [
    "dir_dic"
   ]
  },
  {
   "cell_type": "code",
   "execution_count": null,
   "metadata": {},
   "outputs": [],
   "source": [
    "# get % of actions/movements (probably want per mouse and also overall)\n",
    "# look at dir_dic\n"
   ]
  }
 ],
 "metadata": {
  "kernelspec": {
   "display_name": "Python 3",
   "language": "python",
   "name": "python3"
  },
  "language_info": {
   "codemirror_mode": {
    "name": "ipython",
    "version": 3
   },
   "file_extension": ".py",
   "mimetype": "text/x-python",
   "name": "python",
   "nbconvert_exporter": "python",
   "pygments_lexer": "ipython3",
   "version": "3.8.2"
  },
  "orig_nbformat": 4,
  "vscode": {
   "interpreter": {
    "hash": "98ca290a6d948a162b4d5bd42d28ac0c4ea513cf06bdda78875e0fba2cb9bd5a"
   }
  }
 },
 "nbformat": 4,
 "nbformat_minor": 2
}
